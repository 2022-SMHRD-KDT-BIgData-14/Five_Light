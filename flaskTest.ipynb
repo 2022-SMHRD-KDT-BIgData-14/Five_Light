{
 "cells": [
  {
   "cell_type": "code",
   "execution_count": 3,
   "metadata": {},
   "outputs": [
    {
     "name": "stdout",
     "output_type": "stream",
     "text": [
      "Requirement already satisfied: flask in c:\\users\\smhrd\\anaconda3\\envs\\deep\\lib\\site-packages (2.0.3)\n",
      "Requirement already satisfied: Werkzeug>=2.0 in c:\\users\\smhrd\\anaconda3\\envs\\deep\\lib\\site-packages (from flask) (2.0.3)\n",
      "Requirement already satisfied: Jinja2>=3.0 in c:\\users\\smhrd\\anaconda3\\envs\\deep\\lib\\site-packages (from flask) (3.0.3)\n",
      "Requirement already satisfied: itsdangerous>=2.0 in c:\\users\\smhrd\\anaconda3\\envs\\deep\\lib\\site-packages (from flask) (2.0.1)\n",
      "Requirement already satisfied: click>=7.1.2 in c:\\users\\smhrd\\anaconda3\\envs\\deep\\lib\\site-packages (from flask) (8.0.3)\n",
      "Requirement already satisfied: colorama in c:\\users\\smhrd\\anaconda3\\envs\\deep\\lib\\site-packages (from click>=7.1.2->flask) (0.4.5)\n",
      "Requirement already satisfied: importlib-metadata in c:\\users\\smhrd\\anaconda3\\envs\\deep\\lib\\site-packages (from click>=7.1.2->flask) (4.8.3)\n",
      "Requirement already satisfied: MarkupSafe>=2.0 in c:\\users\\smhrd\\anaconda3\\envs\\deep\\lib\\site-packages (from Jinja2>=3.0->flask) (2.0.1)\n",
      "Requirement already satisfied: dataclasses in c:\\users\\smhrd\\anaconda3\\envs\\deep\\lib\\site-packages (from Werkzeug>=2.0->flask) (0.8)\n",
      "Requirement already satisfied: typing-extensions>=3.6.4 in c:\\users\\smhrd\\anaconda3\\envs\\deep\\lib\\site-packages (from importlib-metadata->click>=7.1.2->flask) (3.7.4.3)\n",
      "Requirement already satisfied: zipp>=0.5 in c:\\users\\smhrd\\anaconda3\\envs\\deep\\lib\\site-packages (from importlib-metadata->click>=7.1.2->flask) (3.6.0)\n",
      "Requirement already satisfied: sympy in c:\\users\\smhrd\\anaconda3\\envs\\deep\\lib\\site-packages (1.9)\n",
      "Requirement already satisfied: mpmath>=0.19 in c:\\users\\smhrd\\anaconda3\\envs\\deep\\lib\\site-packages (from sympy) (1.2.1)\n",
      "Requirement already satisfied: flask_cors in c:\\users\\smhrd\\anaconda3\\envs\\deep\\lib\\site-packages (3.0.10)\n",
      "Requirement already satisfied: Six in c:\\users\\smhrd\\anaconda3\\envs\\deep\\lib\\site-packages (from flask_cors) (1.16.0)\n",
      "Requirement already satisfied: Flask>=0.9 in c:\\users\\smhrd\\anaconda3\\envs\\deep\\lib\\site-packages (from flask_cors) (2.0.3)\n",
      "Requirement already satisfied: Jinja2>=3.0 in c:\\users\\smhrd\\anaconda3\\envs\\deep\\lib\\site-packages (from Flask>=0.9->flask_cors) (3.0.3)\n",
      "Requirement already satisfied: Werkzeug>=2.0 in c:\\users\\smhrd\\anaconda3\\envs\\deep\\lib\\site-packages (from Flask>=0.9->flask_cors) (2.0.3)\n",
      "Requirement already satisfied: click>=7.1.2 in c:\\users\\smhrd\\anaconda3\\envs\\deep\\lib\\site-packages (from Flask>=0.9->flask_cors) (8.0.3)\n",
      "Requirement already satisfied: itsdangerous>=2.0 in c:\\users\\smhrd\\anaconda3\\envs\\deep\\lib\\site-packages (from Flask>=0.9->flask_cors) (2.0.1)\n",
      "Requirement already satisfied: colorama in c:\\users\\smhrd\\anaconda3\\envs\\deep\\lib\\site-packages (from click>=7.1.2->Flask>=0.9->flask_cors) (0.4.5)\n",
      "Requirement already satisfied: importlib-metadata in c:\\users\\smhrd\\anaconda3\\envs\\deep\\lib\\site-packages (from click>=7.1.2->Flask>=0.9->flask_cors) (4.8.3)\n",
      "Requirement already satisfied: MarkupSafe>=2.0 in c:\\users\\smhrd\\anaconda3\\envs\\deep\\lib\\site-packages (from Jinja2>=3.0->Flask>=0.9->flask_cors) (2.0.1)\n",
      "Requirement already satisfied: dataclasses in c:\\users\\smhrd\\anaconda3\\envs\\deep\\lib\\site-packages (from Werkzeug>=2.0->Flask>=0.9->flask_cors) (0.8)\n",
      "Requirement already satisfied: zipp>=0.5 in c:\\users\\smhrd\\anaconda3\\envs\\deep\\lib\\site-packages (from importlib-metadata->click>=7.1.2->Flask>=0.9->flask_cors) (3.6.0)\n",
      "Requirement already satisfied: typing-extensions>=3.6.4 in c:\\users\\smhrd\\anaconda3\\envs\\deep\\lib\\site-packages (from importlib-metadata->click>=7.1.2->Flask>=0.9->flask_cors) (3.7.4.3)\n",
      "Requirement already satisfied: sympy in c:\\users\\smhrd\\anaconda3\\envs\\deep\\lib\\site-packages (1.9)\n",
      "Requirement already satisfied: mpmath>=0.19 in c:\\users\\smhrd\\anaconda3\\envs\\deep\\lib\\site-packages (from sympy) (1.2.1)\n",
      "Requirement already satisfied: mysql-connector-python in c:\\users\\smhrd\\anaconda3\\envs\\deep\\lib\\site-packages (8.0.30)\n",
      "Requirement already satisfied: protobuf<=3.20.1,>=3.11.0 in c:\\users\\smhrd\\anaconda3\\envs\\deep\\lib\\site-packages (from mysql-connector-python) (3.19.5)\n",
      "Requirement already satisfied: mediapipe in c:\\users\\smhrd\\anaconda3\\envs\\deep\\lib\\site-packages (0.8.3)\n",
      "Requirement already satisfied: opencv-python in c:\\users\\smhrd\\anaconda3\\envs\\deep\\lib\\site-packages (4.6.0.66)\n",
      "Requirement already satisfied: wheel in c:\\users\\smhrd\\anaconda3\\envs\\deep\\lib\\site-packages (from mediapipe) (0.37.1)\n",
      "Requirement already satisfied: dataclasses in c:\\users\\smhrd\\anaconda3\\envs\\deep\\lib\\site-packages (from mediapipe) (0.8)\n",
      "Requirement already satisfied: numpy==1.19.3 in c:\\users\\smhrd\\anaconda3\\envs\\deep\\lib\\site-packages (from mediapipe) (1.19.3)\n",
      "Requirement already satisfied: absl-py in c:\\users\\smhrd\\anaconda3\\envs\\deep\\lib\\site-packages (from mediapipe) (0.15.0)\n",
      "Requirement already satisfied: protobuf>=3.11.4 in c:\\users\\smhrd\\anaconda3\\envs\\deep\\lib\\site-packages (from mediapipe) (3.19.5)\n",
      "Requirement already satisfied: attrs in c:\\users\\smhrd\\anaconda3\\envs\\deep\\lib\\site-packages (from mediapipe) (22.1.0)\n",
      "Requirement already satisfied: six in c:\\users\\smhrd\\anaconda3\\envs\\deep\\lib\\site-packages (from mediapipe) (1.16.0)\n"
     ]
    }
   ],
   "source": [
    "!pip install flask\n",
    "!pip install sympy\n",
    "!pip install flask_cors\n",
    "!pip install sympy\n",
    "!pip install mysql-connector-python\n",
    "!pip install mediapipe opencv-python\n"
   ]
  },
  {
   "cell_type": "code",
   "execution_count": 2,
   "metadata": {},
   "outputs": [
    {
     "ename": "AttributeError",
     "evalue": "module 'mediapipe.python.solutions' has no attribute 'drawing_styles'",
     "output_type": "error",
     "traceback": [
      "\u001b[1;31m---------------------------------------------------------------------------\u001b[0m",
      "\u001b[1;31mAttributeError\u001b[0m                            Traceback (most recent call last)",
      "\u001b[1;32m<ipython-input-2-f25dfcc778fa>\u001b[0m in \u001b[0;36m<module>\u001b[1;34m\u001b[0m\n\u001b[0;32m     11\u001b[0m \u001b[1;32mimport\u001b[0m \u001b[0mnumpy\u001b[0m \u001b[1;32mas\u001b[0m \u001b[0mnp\u001b[0m\u001b[1;33m\u001b[0m\u001b[1;33m\u001b[0m\u001b[0m\n\u001b[0;32m     12\u001b[0m \u001b[0mmp_drawing\u001b[0m \u001b[1;33m=\u001b[0m \u001b[0mmp\u001b[0m\u001b[1;33m.\u001b[0m\u001b[0msolutions\u001b[0m\u001b[1;33m.\u001b[0m\u001b[0mdrawing_utils\u001b[0m\u001b[1;33m\u001b[0m\u001b[1;33m\u001b[0m\u001b[0m\n\u001b[1;32m---> 13\u001b[1;33m \u001b[0mmp_drawing_styles\u001b[0m \u001b[1;33m=\u001b[0m \u001b[0mmp\u001b[0m\u001b[1;33m.\u001b[0m\u001b[0msolutions\u001b[0m\u001b[1;33m.\u001b[0m\u001b[0mdrawing_styles\u001b[0m\u001b[1;33m\u001b[0m\u001b[1;33m\u001b[0m\u001b[0m\n\u001b[0m\u001b[0;32m     14\u001b[0m \u001b[0mmp_pose\u001b[0m \u001b[1;33m=\u001b[0m \u001b[0mmp\u001b[0m\u001b[1;33m.\u001b[0m\u001b[0msolutions\u001b[0m\u001b[1;33m.\u001b[0m\u001b[0mpose\u001b[0m\u001b[1;33m\u001b[0m\u001b[1;33m\u001b[0m\u001b[0m\n\u001b[0;32m     15\u001b[0m \u001b[1;32mfrom\u001b[0m \u001b[0msklearn\u001b[0m\u001b[1;33m.\u001b[0m\u001b[0mpreprocessing\u001b[0m \u001b[1;32mimport\u001b[0m \u001b[0mStandardScaler\u001b[0m\u001b[1;33m\u001b[0m\u001b[1;33m\u001b[0m\u001b[0m\n",
      "\u001b[1;31mAttributeError\u001b[0m: module 'mediapipe.python.solutions' has no attribute 'drawing_styles'"
     ]
    }
   ],
   "source": [
    "from urllib import parse\n",
    "from unicodedata import category\n",
    "from flask import Flask,request,redirect,render_template\n",
    "from flask_cors import CORS,cross_origin\n",
    "from fractions import Fraction\n",
    "from sympy import re\n",
    "\n",
    "#--------------------------------------------------\n",
    "import cv2\n",
    "import mediapipe as mp\n",
    "import numpy as np\n",
    "mp_drawing = mp.solutions.drawing_utils\n",
    "mp_drawing_styles = mp.solutions.drawing_styles\n",
    "mp_pose = mp.solutions.pose\n",
    "from sklearn.preprocessing import StandardScaler\n",
    "from cv2 import destroyAllWindows\n",
    "import pandas as pd\n",
    "from PIL import ImageFont, ImageDraw, Image\n",
    "from tensorflow.keras.models import load_model\n",
    "\n",
    "#---------------------------------------------------------\n",
    "import mysql.connector\n",
    "from ast import AsyncFunctionDef\n",
    "from audioop import cross\n",
    "from unittest import result\n",
    "\n"
   ]
  },
  {
   "cell_type": "code",
   "execution_count": null,
   "metadata": {},
   "outputs": [],
   "source": []
  },
  {
   "cell_type": "code",
   "execution_count": null,
   "metadata": {},
   "outputs": [],
   "source": [
    "\n"
   ]
  },
  {
   "cell_type": "code",
   "execution_count": 2,
   "metadata": {},
   "outputs": [],
   "source": [
    "def insert(val):\n",
    "    \n",
    "    conn = mysql.connector.connect(host='project-db-stu.ddns.net', user='smhrdf004',\n",
    "    password='smhrdf004', db='smhrdf004', port=3307, use_unicode=True, charset='utf8')\n",
    "    cursor=conn.cursor()\n",
    "    \n",
    "    for i in range(len(val)):\n",
    "        sql=f\"INSERT INTO feedback (nickname, ex_name, accuracy, feed_date, Feed_con) values ('admin', '랫 풀 다운', '02.00', date_add(sysdate(), INTERVAL 1 DAY), '{val[i]}')\"\n",
    "        cursor.execute(sql)\n",
    "        conn.commit()\n",
    "       \n",
    "    cursor.close()\n",
    "    conn.close()\n"
   ]
  },
  {
   "cell_type": "code",
   "execution_count": null,
   "metadata": {},
   "outputs": [],
   "source": [
    "cursor=conn.cursor()\n",
    "query=\"INSERT INTO feedback (nickname, ex_name, accuracy, feed_date, Feed_con) values ('admin', '랫 풀 다운', 00.01, date_add(sysdate(), INTERVAL 1 DAY), 'test')\"\n",
    "\n",
    "cursor.execute(query)\n",
    "row = cursor.fetchone()\n",
    "print(row)\n",
    "conn.commit\n",
    "cursor.close()\n",
    "conn.close()\n",
    "print('MySQL Connection Close')"
   ]
  },
  {
   "cell_type": "code",
   "execution_count": null,
   "metadata": {},
   "outputs": [],
   "source": []
  },
  {
   "cell_type": "code",
   "execution_count": null,
   "metadata": {},
   "outputs": [],
   "source": []
  },
  {
   "cell_type": "code",
   "execution_count": null,
   "metadata": {},
   "outputs": [],
   "source": []
  },
  {
   "cell_type": "code",
   "execution_count": null,
   "metadata": {},
   "outputs": [],
   "source": []
  },
  {
   "cell_type": "code",
   "execution_count": null,
   "metadata": {},
   "outputs": [],
   "source": []
  },
  {
   "cell_type": "code",
   "execution_count": null,
   "metadata": {},
   "outputs": [],
   "source": []
  },
  {
   "cell_type": "code",
   "execution_count": null,
   "metadata": {},
   "outputs": [],
   "source": []
  },
  {
   "cell_type": "code",
   "execution_count": 6,
   "metadata": {},
   "outputs": [],
   "source": [
    "from enum import auto\n",
    "from multiprocessing.sharedctypes import Value\n",
    "from turtle import width\n",
    "\n",
    "def calculate_angle(a,b,c):\n",
    "    a = np.array(a) # First\n",
    "    b = np.array(b) # Mid\n",
    "    c = np.array(c) # End\n",
    "    \n",
    "    radians = np.arctan2(c[1]-b[1], c[0]-b[0]) - np.arctan2(a[1]-b[1], a[0]-b[0])\n",
    "    angle = np.abs(radians*180.0/np.pi)\n",
    "    \n",
    "    if angle >180.0:\n",
    "        angle = 360-angle\n",
    "        \n",
    "    return angle \n",
    "\n",
    "\n",
    "from enum import auto\n",
    "from turtle import width\n",
    "\n",
    "def lat():\n",
    "\n",
    "    cap = cv2.VideoCapture(0)\n",
    "    # Curl counter variables\n",
    "    counter = 0 \n",
    "\n",
    "    result = []\n",
    "    stage = 'up'\n",
    "    ## Setup mediapipe instance\n",
    "    with mp_pose.Pose(min_detection_confidence=0.5, min_tracking_confidence=0.5) as pose:\n",
    "        while cap.isOpened():\n",
    "            ret, frame = cap.read()\n",
    "            \n",
    "            # Recolor image to RGB\n",
    "            image = cv2.cvtColor(frame, cv2.COLOR_BGR2RGB)\n",
    "            image.flags.writeable = False\n",
    "        \n",
    "            # Make detection\n",
    "            results = pose.process(image)\n",
    "        \n",
    "            # Recolor back to BGR\n",
    "            image.flags.writeable = True\n",
    "            image = cv2.cvtColor(image, cv2.COLOR_RGB2BGR)\n",
    "            \n",
    "            # Extract landmarks\n",
    "            try:\n",
    "                landmarks = results.pose_landmarks.landmark\n",
    "                \n",
    "                # Get coordinates\n",
    "                shoulder = [landmarks[mp_pose.PoseLandmark.LEFT_SHOULDER.value].x,landmarks[mp_pose.PoseLandmark.LEFT_SHOULDER.value].y]\n",
    "                elbow = [landmarks[mp_pose.PoseLandmark.LEFT_ELBOW.value].x,landmarks[mp_pose.PoseLandmark.LEFT_ELBOW.value].y]\n",
    "                wrist = [landmarks[mp_pose.PoseLandmark.LEFT_WRIST.value].x,landmarks[mp_pose.PoseLandmark.LEFT_WRIST.value].y]\n",
    "                \n",
    "                \n",
    "                \n",
    "                shoulder_L = [landmarks[mp_pose.PoseLandmark.LEFT_SHOULDER.value].x,landmarks[mp_pose.PoseLandmark.LEFT_SHOULDER.value].y] # 왼쪽\n",
    "                shoulder_R = [landmarks[mp_pose.PoseLandmark.RIGHT_SHOULDER.value].x,landmarks[mp_pose.PoseLandmark.RIGHT_SHOULDER.value].y] # 오른쪽\n",
    "                elbow_L = [landmarks[mp_pose.PoseLandmark.LEFT_ELBOW.value].x,landmarks[mp_pose.PoseLandmark.LEFT_ELBOW.value].y] # 왼쪽\n",
    "                elbow_R = [landmarks[mp_pose.PoseLandmark.RIGHT_ELBOW.value].x,landmarks[mp_pose.PoseLandmark.RIGHT_ELBOW.value].y] # 오른쪽\n",
    "                wrist_L = [landmarks[mp_pose.PoseLandmark.LEFT_WRIST.value].x,landmarks[mp_pose.PoseLandmark.LEFT_WRIST.value].y] # 왼쪽\n",
    "                wrist_R = [landmarks[mp_pose.PoseLandmark.RIGHT_WRIST.value].x,landmarks[mp_pose.PoseLandmark.RIGHT_WRIST.value].y] # 오른쪽\n",
    "                hip_L = [landmarks[mp_pose.PoseLandmark.LEFT_HIP.value].x,landmarks[mp_pose.PoseLandmark.LEFT_HIP.value].y] # 왼쪽\n",
    "                hip_R = [landmarks[mp_pose.PoseLandmark.RIGHT_HIP.value].x,landmarks[mp_pose.PoseLandmark.RIGHT_HIP.value].y] # 오른쪽\n",
    "                \n",
    "                \n",
    "                \n",
    "                \n",
    "                \n",
    "                \n",
    "                # Calculate angle\n",
    "                angle = calculate_angle(shoulder, elbow, wrist)\n",
    "                \n",
    "                # Visualize angle\n",
    "                cv2.putText(image, str(angle), \n",
    "                            tuple(np.multiply(elbow, [1920, 1080]).astype(int)), \n",
    "                            cv2.FONT_HERSHEY_SIMPLEX, 0.5, (255, 255, 255), 2, cv2.LINE_AA\n",
    "                                    )\n",
    "                \n",
    "                # Curl counter logic\n",
    "                if stage == 'up' :\n",
    "                    if angle > 160 :\n",
    "                        stage = \"down\"\n",
    "                        s = 1\n",
    "                        if counter >= 1:\n",
    "                            twoShape = []\n",
    "                            oneShape = []\n",
    "                            for num in ['shoulder_L','shoulder_R','elbow_L','elbow_R','wrist_L','wrist_R','hip_L','hip_R']:\n",
    "                                oneShape += list(tuple(np.multiply(eval(f'{num}'), [1920, 1080]).astype(int)))\n",
    "                            twoShape += [oneShape]\n",
    "                            result += [twoShape]\n",
    "                                \n",
    "                if angle < 30 and stage =='down':\n",
    "                    stage=\"up\"\n",
    "                    if s == 1 :\n",
    "                        if counter == 5 :\n",
    "                            cv2.waitKey(3000)\n",
    "                            break\n",
    "                    counter +=1\n",
    "                    \n",
    "                \n",
    "                        \n",
    "            except:\n",
    "                pass\n",
    "            \n",
    "            # Render curl counter\n",
    "            # Setup status box\n",
    "            cv2.rectangle(image, (0,0), (225,73), (245,117,16), -1)\n",
    "            \n",
    "            # Rep data\n",
    "            cv2.putText(image, 'REPS', (15,12), \n",
    "                        cv2.FONT_HERSHEY_SIMPLEX, 0.5, (0,0,0), 1, cv2.LINE_AA)\n",
    "            cv2.putText(image, str(counter), \n",
    "                        (10,60), \n",
    "                        cv2.FONT_HERSHEY_SIMPLEX, 2, (255,255,255), 2, cv2.LINE_AA)\n",
    "            \n",
    "            # Stage data\n",
    "            cv2.putText(image, 'STAGE', (65,12), \n",
    "                        cv2.FONT_HERSHEY_SIMPLEX, 0.5, (0,0,0), 1, cv2.LINE_AA)\n",
    "            cv2.putText(image, stage, \n",
    "                        (60,60), \n",
    "                        cv2.FONT_HERSHEY_SIMPLEX, 2, (255,255,255), 2, cv2.LINE_AA)\n",
    "            \n",
    "            \n",
    "            # Render detections\n",
    "            mp_drawing.draw_landmarks(image, results.pose_landmarks, mp_pose.POSE_CONNECTIONS,\n",
    "                                    mp_drawing.DrawingSpec(color=(245,117,66), thickness=2, circle_radius=2), \n",
    "                                    mp_drawing.DrawingSpec(color=(245,66,230), thickness=2, circle_radius=2) \n",
    "                                    )               \n",
    "            \n",
    "            cv2.imshow('Mediapipe Feed', image)\n",
    "\n",
    "            if cv2.waitKey(10) & 0xFF == ord('q'):\n",
    "                break\n",
    "\n",
    "        cap.release()\n",
    "        cv2.destroyAllWindows()\n",
    "\n",
    "        np.array(result).shape\n",
    "        model = load_model('./model2.h5')\n",
    "        a = np.array(result)\n",
    "        b = model.predict(a)\n",
    "        c = np.argmax(b, axis=1)\n",
    "        print(c)\n",
    "        val=[]\n",
    "        acc = 0\n",
    "        for i in range(len(c)):\n",
    "            if c[i]==0: \n",
    "                acc+=20\n",
    "                val.append(\"정자세입니다.\")\n",
    "            elif c[i]==1:\n",
    "                val.append(\"기구 당김이 부족합니다.\")\n",
    "            elif c[i]==2:           \n",
    "                val.append(\"상체가 불안정하며, 기구 당김이 부족합니다.\")\n",
    "            elif c[i]==3:\n",
    "                val.append(\"축 평행이 불량하며, 기구 당김이 부족합니다.\")\n",
    "         \n",
    "        print(acc)\n",
    "        \n",
    "        for j in range(len(val)): \n",
    "            print(val[j])\n",
    "        \n",
    "        insert(val)\n",
    "        \n"
   ]
  },
  {
   "cell_type": "code",
   "execution_count": 8,
   "metadata": {},
   "outputs": [
    {
     "name": "stdout",
     "output_type": "stream",
     "text": [
      "[12 12  0 12 12]\n",
      "20\n",
      "상체가 자세 불안정하며, 기구 당김이 부족합니다.\n",
      "상체가 자세 불안정하며, 기구 당김이 부족합니다.\n",
      "정자세입니다.\n",
      "상체가 자세 불안정하며, 기구 당김이 부족합니다.\n",
      "상체가 자세 불안정하며, 기구 당김이 부족합니다.\n"
     ]
    }
   ],
   "source": [
    "lat()"
   ]
  },
  {
   "cell_type": "code",
   "execution_count": 84,
   "metadata": {},
   "outputs": [
    {
     "name": "stdout",
     "output_type": "stream",
     "text": [
      " * Serving Flask app '__main__' (lazy loading)\n",
      " * Environment: production\n",
      "\u001b[31m   WARNING: This is a development server. Do not use it in a production deployment.\u001b[0m\n",
      "\u001b[2m   Use a production WSGI server instead.\u001b[0m\n",
      " * Debug mode: off\n"
     ]
    },
    {
     "name": "stderr",
     "output_type": "stream",
     "text": [
      " * Running on http://127.0.0.1:5002/ (Press CTRL+C to quit)\n"
     ]
    },
    {
     "name": "stdout",
     "output_type": "stream",
     "text": [
      "[0 0 0 0 0]\n",
      "정자세입니다.\n",
      "정자세입니다.\n",
      "정자세입니다.\n",
      "정자세입니다.\n",
      "정자세입니다.\n"
     ]
    },
    {
     "name": "stderr",
     "output_type": "stream",
     "text": [
      "127.0.0.1 - - [09/Oct/2022 13:47:12] \"GET /naver HTTP/1.1\" 302 -\n"
     ]
    },
    {
     "name": "stdout",
     "output_type": "stream",
     "text": [
      "[ 0  0  0  0 12]\n",
      "정자세입니다.\n",
      "정자세입니다.\n",
      "정자세입니다.\n",
      "정자세입니다.\n",
      "상체가 자세 불안정하며, 기구 당김이 부족합니다.\n"
     ]
    },
    {
     "name": "stderr",
     "output_type": "stream",
     "text": [
      "127.0.0.1 - - [09/Oct/2022 13:48:03] \"GET /naver HTTP/1.1\" 302 -\n"
     ]
    }
   ],
   "source": [
    "\n",
    "\n",
    "\n",
    "\n",
    "\n",
    "\n",
    "\n",
    "app=Flask(__name__)  #flask 서버 객체 생성\n",
    "\n",
    "@cross_origin\n",
    "@app.route(\"/\")\n",
    "\n",
    "def index():\n",
    "    url = \"https://www.naver.com/\"\n",
    "\n",
    "    return redirect(url)\n",
    "\n",
    "\n",
    "@cross_origin\n",
    "@app.route(\"/naver\", methods=[\"GET\", \"POST\"])\n",
    "def test():\n",
    "    if request.method=='POST':\n",
    "        \n",
    "        url=\"http://localhost:8085/flask\"\n",
    "        return redirect(url)\n",
    "    else:\n",
    "        lat()\n",
    "        \n",
    "        url_2 =\"http://localhost:8085/flask\"\n",
    "\n",
    "        return redirect(url_2)\n",
    "      \n",
    "\n",
    "# main함수의 시작을 의미 \n",
    "# 비유하자면 자바의 main(String[] args)메소드와 같은 역할\n",
    "\n",
    "\n",
    "if __name__ == '__main__':\n",
    "    # 웹서버주소(host)와 포트번호(port)를 지정하여 웹 서버 실행\n",
    "    app.run(host='127.0.0.1', port='5002') "
   ]
  },
  {
   "cell_type": "code",
   "execution_count": null,
   "metadata": {},
   "outputs": [],
   "source": []
  },
  {
   "cell_type": "code",
   "execution_count": null,
   "metadata": {},
   "outputs": [],
   "source": []
  },
  {
   "cell_type": "code",
   "execution_count": null,
   "metadata": {},
   "outputs": [],
   "source": [
    "import mysql.connector\n",
    "conn = mysql.connector.connect(host='project-db-stu.ddns.net', user='smhrdf004', \n",
    "password='smhrdf004', db='smhrdf004', port=3307, use_unicode=True, charset='utf8')\n",
    "\n",
    "cursor=conn.cursor()\n",
    "\n",
    "\n",
    "cursor.execute(\"INSERT INTO feedback (nickname, ex_name, accuracy, feed_date, Feed_con) values ('admin', '랫 풀 다운', 00.01, date_add(sysdate(), INTERVAL 1 DAY), 'test')\")\n",
    "conn.commit()\n",
    "row = cursor.fetchone()\n",
    "cursor.close()\n",
    "conn.close()\n",
    "print('MySQL Connection Close')\n",
    "\n",
    "def insert():\n",
    "    conn = mysql.connector.connect(host='project-db-stu.ddns.net', user='smhrdf004',\n",
    "    password='smhrdf004', db='smhrdf004', port=3307, use_unicode=True, charset='utf8')\n",
    "    cursor=conn.cursor()\n",
    "    \n",
    "    sql=\"INSERT INTO feedback (nickname, ex_name, accuracy, feed_date, Feed_con) values (%s, %s, %f, date_add(sysdate(), INTERVAL 1 DAY), %s)\"\n",
    "    result = (res.nickname, res.ex_name, res.accuracy, res.feed_con)\n",
    "    cursor.execute(sql, result)\n",
    "    conn.commit()\n",
    "    row = cursor.fetchone()\n",
    "    cursor.close()\n",
    "    conn.close()\n",
    "\n",
    "    return print(\"성공\")\n"
   ]
  },
  {
   "cell_type": "code",
   "execution_count": null,
   "metadata": {},
   "outputs": [],
   "source": []
  },
  {
   "cell_type": "code",
   "execution_count": null,
   "metadata": {},
   "outputs": [],
   "source": []
  },
  {
   "cell_type": "code",
   "execution_count": null,
   "metadata": {},
   "outputs": [],
   "source": []
  },
  {
   "cell_type": "code",
   "execution_count": null,
   "metadata": {},
   "outputs": [],
   "source": []
  },
  {
   "cell_type": "code",
   "execution_count": null,
   "metadata": {},
   "outputs": [],
   "source": []
  },
  {
   "cell_type": "code",
   "execution_count": null,
   "metadata": {},
   "outputs": [],
   "source": []
  },
  {
   "cell_type": "code",
   "execution_count": null,
   "metadata": {},
   "outputs": [],
   "source": []
  },
  {
   "cell_type": "code",
   "execution_count": null,
   "metadata": {},
   "outputs": [],
   "source": []
  },
  {
   "cell_type": "code",
   "execution_count": null,
   "metadata": {},
   "outputs": [],
   "source": []
  },
  {
   "cell_type": "code",
   "execution_count": null,
   "metadata": {},
   "outputs": [],
   "source": []
  }
 ],
 "metadata": {
  "kernelspec": {
   "display_name": "Python 3.6.13 ('deep')",
   "language": "python",
   "name": "python3"
  },
  "language_info": {
   "codemirror_mode": {
    "name": "ipython",
    "version": 3
   },
   "file_extension": ".py",
   "mimetype": "text/x-python",
   "name": "python",
   "nbconvert_exporter": "python",
   "pygments_lexer": "ipython3",
   "version": "3.6.13"
  },
  "orig_nbformat": 4,
  "vscode": {
   "interpreter": {
    "hash": "4da5150ef55f292e1baa1714eaa661daae7d90c7bbc37194fd8cf0c3e83fe009"
   }
  }
 },
 "nbformat": 4,
 "nbformat_minor": 2
}
